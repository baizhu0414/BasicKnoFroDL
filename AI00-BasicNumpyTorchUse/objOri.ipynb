{
 "cells": [
  {
   "cell_type": "code",
   "execution_count": 1,
   "id": "9da9a2d7",
   "metadata": {},
   "outputs": [
    {
     "name": "stdout",
     "output_type": "stream",
     "text": [
      "static size\n",
      "<class 'int'>\n"
     ]
    }
   ],
   "source": [
    "# 面向对象编程\n",
    "class Home:\n",
    "    height = 10\n",
    "    @staticmethod\n",
    "    def size():\n",
    "        print(\"static size\")\n",
    "    @classmethod\n",
    "    def type(cls):\n",
    "        print(type(cls.height))\n",
    "\n",
    "Home.size()\n",
    "Home.type()"
   ]
  },
  {
   "cell_type": "code",
   "execution_count": 17,
   "id": "e9061217",
   "metadata": {},
   "outputs": [
    {
     "name": "stdout",
     "output_type": "stream",
     "text": [
      "test 吃饭,18岁，173cm\n",
      "test\n",
      "18\n",
      "173\n"
     ]
    }
   ],
   "source": [
    "# _:受保护；__:私有,class内部；__xxx__:魔法方法\n",
    "class Person():\n",
    "    def __init__(self): # 类属性\n",
    "        self._name = \"test\"\n",
    "        self.__age = 18\n",
    "        self.height = 173\n",
    "\n",
    "    def breath(self):\n",
    "        print(\"呼吸\")\n",
    "        \n",
    "    def eat(self): # 实例方法\n",
    "        print(f\"{self._name} 吃饭,{self.__age}岁，{self.height}cm\")\n",
    "    \n",
    "person = Person()\n",
    "person.eat()\n",
    "print(person._name) # 不支持继承\n",
    "print(person._Person__age) # 内部属性，不建议访问\n",
    "print(person.height)"
   ]
  },
  {
   "cell_type": "code",
   "execution_count": null,
   "id": "355ad5df",
   "metadata": {},
   "outputs": [
    {
     "name": "stdout",
     "output_type": "stream",
     "text": [
      "呼吸\n",
      "小伙考试70分\n"
     ]
    }
   ],
   "source": [
    "class Child(Person): # 继承\n",
    "    def __init__(self):\n",
    "        self.score = 70 # 类属性\n",
    "\n",
    "    def eat(self): # 实例方法；父类属性不能全部继承，需要改写函数。\n",
    "        print(f\"小伙考试{self.score}分\")\n",
    "\n",
    "child = Child()\n",
    "child.breath() # 继承父类\n",
    "child.eat()"
   ]
  },
  {
   "cell_type": "code",
   "execution_count": null,
   "id": "11f41f68",
   "metadata": {},
   "outputs": [
    {
     "name": "stdout",
     "output_type": "stream",
     "text": [
      "小伙考试70分\n",
      "test 吃饭,18岁，173cm\n"
     ]
    }
   ],
   "source": [
    "def eat(person):\n",
    "    person.eat()\n",
    "\n",
    "# 多态性\n",
    "eat(child)\n",
    "eat(person)"
   ]
  },
  {
   "cell_type": "code",
   "execution_count": 22,
   "id": "e1cc2f9a",
   "metadata": {},
   "outputs": [],
   "source": [
    "class ListTest:\n",
    "    def __init__(self, lst):\n",
    "        self.lst = lst\n",
    "        pass\n",
    "    \n",
    "    def __getitem__(self, index):\n",
    "        return self.lst[index]\n",
    "    \n",
    "    def __delitem__(self, index):\n",
    "        del self.lst[index]\n",
    "\n",
    "    def __len__(self):\n",
    "        return len(self.lst)\n",
    "    \n",
    "    def append(self, item):\n",
    "        self.lst.append(item)\n"
   ]
  },
  {
   "cell_type": "code",
   "execution_count": 23,
   "id": "e4ed448d",
   "metadata": {},
   "outputs": [
    {
     "name": "stdout",
     "output_type": "stream",
     "text": [
      "3\n",
      "5\n"
     ]
    }
   ],
   "source": [
    "myList = [1,2,3,4,5]\n",
    "lst = ListTest(myList)\n",
    "print(lst.__getitem__(2))\n",
    "print(lst.__len__())"
   ]
  },
  {
   "cell_type": "code",
   "execution_count": 25,
   "id": "44c17aef",
   "metadata": {},
   "outputs": [
    {
     "name": "stdout",
     "output_type": "stream",
     "text": [
      "[1, 4, 5]\n"
     ]
    }
   ],
   "source": [
    "lst.__delitem__(1)\n",
    "print(lst.lst)"
   ]
  }
 ],
 "metadata": {
  "kernelspec": {
   "display_name": "test-env",
   "language": "python",
   "name": "python3"
  },
  "language_info": {
   "codemirror_mode": {
    "name": "ipython",
    "version": 3
   },
   "file_extension": ".py",
   "mimetype": "text/x-python",
   "name": "python",
   "nbconvert_exporter": "python",
   "pygments_lexer": "ipython3",
   "version": "3.10.16"
  }
 },
 "nbformat": 4,
 "nbformat_minor": 5
}
