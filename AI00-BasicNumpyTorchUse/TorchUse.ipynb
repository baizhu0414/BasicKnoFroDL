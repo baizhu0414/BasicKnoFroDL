{
 "cells": [
  {
   "cell_type": "code",
   "execution_count": 2,
   "id": "d24dcfe4",
   "metadata": {},
   "outputs": [
    {
     "data": {
      "text/plain": [
       "True"
      ]
     },
     "execution_count": 2,
     "metadata": {},
     "output_type": "execute_result"
    }
   ],
   "source": [
    "import torch\n",
    "torch.cuda.is_available()"
   ]
  },
  {
   "cell_type": "code",
   "execution_count": null,
   "id": "149ec1c2",
   "metadata": {},
   "outputs": [],
   "source": [
    "# Tensor，eye，zeros，ones，arange，linspace，logspace\n",
    "# rand，randn，randint"
   ]
  },
  {
   "cell_type": "code",
   "execution_count": null,
   "id": "a9b8eaa5",
   "metadata": {},
   "outputs": [
    {
     "data": {
      "text/plain": [
       "tensor([[1., 2.],\n",
       "        [3., 4.]])"
      ]
     },
     "execution_count": 4,
     "metadata": {},
     "output_type": "execute_result"
    }
   ],
   "source": [
    "a = torch.Tensor([[1,2],[3,4]]) # 浮点张量\n",
    "a"
   ]
  },
  {
   "cell_type": "code",
   "execution_count": 9,
   "id": "1e899941",
   "metadata": {},
   "outputs": [
    {
     "name": "stdout",
     "output_type": "stream",
     "text": [
      "tensor([[1., 0.],\n",
      "        [0., 1.]])\n",
      "tensor([[0., 0.],\n",
      "        [0., 0.]])\n",
      "tensor([[1., 1.],\n",
      "        [1., 1.]])\n"
     ]
    }
   ],
   "source": [
    "a = torch.eye(2,2)\n",
    "print(a)\n",
    "print(torch.zeros(2,2))\n",
    "print(torch.ones(2,2))"
   ]
  },
  {
   "cell_type": "code",
   "execution_count": null,
   "id": "e7730e5c",
   "metadata": {},
   "outputs": [
    {
     "name": "stdout",
     "output_type": "stream",
     "text": [
      "tensor([1, 3, 5, 7, 9])\n",
      "tensor([ 1.0000,  3.2500,  5.5000,  7.7500, 10.0000])\n",
      "tensor([1.0000e+01, 1.0000e+03, 1.0000e+05, 1.0000e+07, 1.0000e+09])\n"
     ]
    }
   ],
   "source": [
    "print(torch.arange(1,11,2))\n",
    "print(torch.linspace(1,10,5)) # steps:等差数列数量\n",
    "print(torch.logspace(1,9,5)) # number:次方数，等比数列"
   ]
  },
  {
   "cell_type": "code",
   "execution_count": null,
   "id": "4b7f2329",
   "metadata": {},
   "outputs": [
    {
     "name": "stdout",
     "output_type": "stream",
     "text": [
      "tensor([[0.9481, 0.9904, 0.7958],\n",
      "        [0.6693, 0.6440, 0.6472],\n",
      "        [0.7357, 0.4237, 0.4825]])\n"
     ]
    }
   ],
   "source": [
    "print(torch.rand(3,3)) # 随机"
   ]
  },
  {
   "cell_type": "code",
   "execution_count": null,
   "id": "8aee3eaa",
   "metadata": {},
   "outputs": [
    {
     "name": "stdout",
     "output_type": "stream",
     "text": [
      "tensor([[-0.9666, -1.2728, -1.0110],\n",
      "        [ 1.5587,  0.1686,  0.7138],\n",
      "        [-0.7427, -1.4066, -1.3344]])\n"
     ]
    }
   ],
   "source": [
    "print(torch.randn(3,3)) # 正态分布"
   ]
  },
  {
   "cell_type": "code",
   "execution_count": null,
   "id": "e5bfc467",
   "metadata": {},
   "outputs": [
    {
     "name": "stdout",
     "output_type": "stream",
     "text": [
      "tensor([[2, 1],\n",
      "        [2, 2]])\n"
     ]
    }
   ],
   "source": [
    "print(torch.randint(1,3,(2,2)))"
   ]
  },
  {
   "cell_type": "code",
   "execution_count": null,
   "id": "0adedb3d",
   "metadata": {},
   "outputs": [],
   "source": [
    "# torch:from_numpy(torch.Tensor & numpy.ndarray转换)\n",
    "# torch.Tensor:shape"
   ]
  },
  {
   "cell_type": "code",
   "execution_count": 45,
   "id": "79b3ee39",
   "metadata": {},
   "outputs": [
    {
     "data": {
      "text/plain": [
       "(array([3, 2, 4]), numpy.ndarray, tensor([3, 2, 4]), torch.Tensor)"
      ]
     },
     "execution_count": 45,
     "metadata": {},
     "output_type": "execute_result"
    }
   ],
   "source": [
    "# ndarray 和 tensor转换\n",
    "import numpy as np\n",
    "a = np.array([3,2,4])\n",
    "t = torch.from_numpy(a)\n",
    "a,type(a), t, type(t)"
   ]
  },
  {
   "cell_type": "code",
   "execution_count": 30,
   "id": "820ba75b",
   "metadata": {},
   "outputs": [
    {
     "name": "stdout",
     "output_type": "stream",
     "text": [
      "torch.Size([2, 3, 128, 128])\n",
      "torch.Size([3, 128, 128])\n",
      "torch.Size([128, 128])\n",
      "torch.Size([128])\n"
     ]
    }
   ],
   "source": [
    "a = torch.Tensor(2,3,128,128)\n",
    "print(a.shape) # 2张图\n",
    "print(a[0].shape) # 一张图\n",
    "print(a[0][0].shape) # 宽高\n",
    "print(a[0][0][0].shape) # 行"
   ]
  },
  {
   "cell_type": "code",
   "execution_count": null,
   "id": "49556a19",
   "metadata": {},
   "outputs": [
    {
     "name": "stdout",
     "output_type": "stream",
     "text": [
      "torch.Size([1, 3, 128, 128])\n",
      "torch.Size([1, 1, 128, 128])\n",
      "torch.Size([1, 1, 64, 64])\n",
      "torch.Size([1, 1, 64, 64])\n"
     ]
    }
   ],
   "source": [
    "# 一部分切片 a[start:end:step]\n",
    "a = torch.Tensor(2,3,128,128)\n",
    "# a[0] = -1\n",
    "# a[1] = 1\n",
    "print(a[:1,:,:].shape) # 第一张图\n",
    "print(a[:1,:1,:].shape) # 第一个通道R\n",
    "print(a[:1,:1,:64,:64].shape) # 面积1/4\n",
    "print(a[:1,:1,:128:2,:128:2].shape) # step=2\n"
   ]
  },
  {
   "cell_type": "code",
   "execution_count": null,
   "id": "d7b641e6",
   "metadata": {},
   "outputs": [],
   "source": [
    "# Tensor：reshape,unsqueeze，squeeze，transpose，permute，expand"
   ]
  },
  {
   "cell_type": "code",
   "execution_count": 47,
   "id": "68c15079",
   "metadata": {},
   "outputs": [
    {
     "name": "stdout",
     "output_type": "stream",
     "text": [
      "torch.Size([2, 3, 4096])\n",
      "torch.Size([4, 6144])\n"
     ]
    }
   ],
   "source": [
    "# 维度变换reshape！！！重要。\n",
    "a = torch.Tensor(2,3,64,64)\n",
    "print(a.reshape(2,3,-1).shape)\n",
    "print(a.reshape(4,-1).shape)"
   ]
  },
  {
   "cell_type": "code",
   "execution_count": null,
   "id": "1eb35245",
   "metadata": {},
   "outputs": [
    {
     "name": "stdout",
     "output_type": "stream",
     "text": [
      "torch.Size([1, 2, 1, 64, 64])\n",
      "torch.Size([2, 64, 64])\n"
     ]
    }
   ],
   "source": [
    "a = torch.Tensor(2,1,64,64) # 2张灰度图\n",
    "print(a.unsqueeze(0).shape) # 增加维度\n",
    "print(a.squeeze(1).shape) # 降低维度（必须为1，否则不生效）"
   ]
  },
  {
   "cell_type": "code",
   "execution_count": null,
   "id": "eebef658",
   "metadata": {},
   "outputs": [
    {
     "name": "stdout",
     "output_type": "stream",
     "text": [
      "torch.Size([1, 2, 64, 64])\n",
      "torch.Size([1, 2, 64, 64])\n"
     ]
    }
   ],
   "source": [
    "a = torch.Tensor(2,1,64,64)\n",
    "print(a.transpose(0,1).shape) # 维度交换\n",
    "print(a.permute(1,0,3,2).shape) # 必须是全部维度"
   ]
  },
  {
   "cell_type": "code",
   "execution_count": 60,
   "id": "8fc77407",
   "metadata": {},
   "outputs": [
    {
     "name": "stdout",
     "output_type": "stream",
     "text": [
      "torch.Size([2, 3, 64, 64])\n"
     ]
    }
   ],
   "source": [
    "a = torch.Tensor(2,1,64,64)\n",
    "print(a.expand(2,3,64,64).shape) # 扩展维度，要求初始为1"
   ]
  }
 ],
 "metadata": {
  "kernelspec": {
   "display_name": "test-env",
   "language": "python",
   "name": "python3"
  },
  "language_info": {
   "codemirror_mode": {
    "name": "ipython",
    "version": 3
   },
   "file_extension": ".py",
   "mimetype": "text/x-python",
   "name": "python",
   "nbconvert_exporter": "python",
   "pygments_lexer": "ipython3",
   "version": "3.10.16"
  }
 },
 "nbformat": 4,
 "nbformat_minor": 5
}
