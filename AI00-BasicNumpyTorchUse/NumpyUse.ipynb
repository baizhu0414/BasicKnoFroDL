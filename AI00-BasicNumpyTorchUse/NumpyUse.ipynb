{
 "cells": [
  {
   "cell_type": "code",
   "execution_count": 2,
   "id": "70bb3349",
   "metadata": {},
   "outputs": [
    {
     "name": "stdout",
     "output_type": "stream",
     "text": [
      "[1 2 3]\n",
      "<class 'numpy.ndarray'>\n"
     ]
    }
   ],
   "source": [
    "import numpy as np\n",
    "a = np.array([1,2,3])\n",
    "print(a)\n",
    "print(type(a))"
   ]
  },
  {
   "cell_type": "code",
   "execution_count": null,
   "id": "708b6e41",
   "metadata": {},
   "outputs": [
    {
     "name": "stdout",
     "output_type": "stream",
     "text": [
      "[[1 2]\n",
      " [3 4]]\n",
      "[[1 2]\n",
      " [3 4]]\n",
      "<class 'numpy.ndarray'>\n",
      "<class 'numpy.matrix'>\n",
      "[[ 1  4]\n",
      " [ 9 16]]\n",
      "[[ 7 10]\n",
      " [15 22]]\n",
      "[[2 4]\n",
      " [6 8]]\n",
      "[1, 2, 1, 2]\n"
     ]
    }
   ],
   "source": [
    "a = np.array([[1,2],[3,4]]) # 定义二维数组\n",
    "a_m = np.matrix(a) # 矩阵\n",
    "print(a)\n",
    "print(a_m)\n",
    "print(type(a))\n",
    "print(type(a_m))\n",
    "print(a*a) # 数组乘法\n",
    "print(a_m*a_m) # 矩阵乘法\n",
    "\n",
    "\n",
    "print(a+a) # array数组位置加法\n",
    "c = [1,2]\n",
    "print(c+c) # python数组数组拼接"
   ]
  },
  {
   "cell_type": "code",
   "execution_count": 13,
   "id": "54c29a6d",
   "metadata": {},
   "outputs": [
    {
     "name": "stdout",
     "output_type": "stream",
     "text": [
      "[2, 4, 6, 8, 10]\n"
     ]
    }
   ],
   "source": [
    "# python数组加法必须手动实现，否则会变成拼接\n",
    "d = [x+1 for x in range(5)]\n",
    "for i in range(5):\n",
    "    d[i] = d[i]+d[i]\n",
    "\n",
    "print(d)\n"
   ]
  },
  {
   "cell_type": "code",
   "execution_count": 14,
   "id": "c1609a0d",
   "metadata": {},
   "outputs": [
    {
     "name": "stdout",
     "output_type": "stream",
     "text": [
      "<class 'numpy.ndarray'>\n",
      "2\n"
     ]
    }
   ],
   "source": [
    "print(type(a))\n",
    "print(a.ndim)"
   ]
  },
  {
   "cell_type": "code",
   "execution_count": null,
   "id": "61224506",
   "metadata": {},
   "outputs": [
    {
     "name": "stdout",
     "output_type": "stream",
     "text": [
      "2063635893680\n",
      "2063636236976\n",
      "2063635893680\n",
      "2063635904624\n"
     ]
    }
   ],
   "source": [
    "a = np.array((1,2,3))\n",
    "b = np.array(a, copy=True) # 复制一份\n",
    "c = np.array(a, copy=False) # 复用\n",
    "e = np.array(a) # 默认copy=True\n",
    "print(id(a))\n",
    "print(id(b))\n",
    "print(id(c))\n",
    "print(id(e))"
   ]
  },
  {
   "cell_type": "code",
   "execution_count": 19,
   "id": "2bc79c18",
   "metadata": {},
   "outputs": [
    {
     "name": "stdout",
     "output_type": "stream",
     "text": [
      "[ 1.  2.  3.  4.  5.  6.  7.  8.  9. 10.]\n"
     ]
    }
   ],
   "source": [
    "a = np.linspace(1,10,10,endpoint=True, dtype=float)\n",
    "print(a)"
   ]
  },
  {
   "cell_type": "code",
   "execution_count": 20,
   "id": "9ad6d21f",
   "metadata": {},
   "outputs": [
    {
     "data": {
      "text/plain": [
       "(10,)"
      ]
     },
     "execution_count": 20,
     "metadata": {},
     "output_type": "execute_result"
    }
   ],
   "source": [
    "a.shape"
   ]
  },
  {
   "cell_type": "code",
   "execution_count": 23,
   "id": "73ff3f79",
   "metadata": {},
   "outputs": [
    {
     "data": {
      "text/plain": [
       "array([[ 1.,  2.,  3.,  4.,  5.],\n",
       "       [ 6.,  7.,  8.,  9., 10.]])"
      ]
     },
     "execution_count": 23,
     "metadata": {},
     "output_type": "execute_result"
    }
   ],
   "source": [
    "b = a.reshape(2,5) #更改形状\n",
    "b"
   ]
  },
  {
   "cell_type": "code",
   "execution_count": 25,
   "id": "7114550d",
   "metadata": {},
   "outputs": [
    {
     "data": {
      "text/plain": [
       "8"
      ]
     },
     "execution_count": 25,
     "metadata": {},
     "output_type": "execute_result"
    }
   ],
   "source": [
    "b.itemsize # 元素字节数"
   ]
  },
  {
   "cell_type": "code",
   "execution_count": 44,
   "id": "2ca099e3",
   "metadata": {},
   "outputs": [
    {
     "name": "stdout",
     "output_type": "stream",
     "text": [
      "[[ 3.  4.  5.]\n",
      " [ 8.  9. 10.]]\n",
      "[ 2.  4.  6.  8. 10.]\n",
      "[10.  9.  8.  7.  6.  5.  4.  3.  2.  1.]\n",
      "[1. 2. 3. 4. 5.] [1. 2. 3. 4. 5.]\n"
     ]
    }
   ],
   "source": [
    "print(b[...,2:]) # 全部行\n",
    "print(a[1::2])\n",
    "print(a[::-1]) # 倒序\n",
    "\n",
    "print(b[...][0], b[0])"
   ]
  },
  {
   "cell_type": "code",
   "execution_count": 55,
   "id": "617a9d4b",
   "metadata": {},
   "outputs": [
    {
     "name": "stdout",
     "output_type": "stream",
     "text": [
      "[[ 1.  2.  3.  4.  5.]\n",
      " [ 6.  7.  8.  9. 10.]]\n",
      "[1. 7.]\n",
      "2.0\n"
     ]
    }
   ],
   "source": [
    "\n",
    "print(b)\n",
    "print(b[[0,1],[0,1]]) # 二维数组选取(0,0),(1,1)\n",
    "print(b[0:1][0,1])"
   ]
  },
  {
   "cell_type": "code",
   "execution_count": 104,
   "id": "c929ad54",
   "metadata": {},
   "outputs": [],
   "source": [
    "# 广播：从最后维度向前比较，都满足则可以广播"
   ]
  },
  {
   "cell_type": "code",
   "execution_count": null,
   "id": "b8125366",
   "metadata": {},
   "outputs": [],
   "source": [
    "# array:mean,max\n",
    "# numpy.random:rand,randn,seed\n",
    "# numpy:append,insert,delete,unique"
   ]
  },
  {
   "cell_type": "code",
   "execution_count": null,
   "id": "56e6c0e7",
   "metadata": {},
   "outputs": [
    {
     "name": "stdout",
     "output_type": "stream",
     "text": [
      "[[ 0  1  2  3]\n",
      " [ 4  5  6  7]\n",
      " [ 8  9 10 11]]\n"
     ]
    },
    {
     "data": {
      "text/plain": [
       "array([4., 5., 6., 7.])"
      ]
     },
     "execution_count": 56,
     "metadata": {},
     "output_type": "execute_result"
    }
   ],
   "source": [
    "a = np.arange(12).reshape(3,4)\n",
    "print(a)\n",
    "a.mean(axis = 0) # 跨行平均"
   ]
  },
  {
   "cell_type": "code",
   "execution_count": 58,
   "id": "39e252c0",
   "metadata": {},
   "outputs": [
    {
     "name": "stdout",
     "output_type": "stream",
     "text": [
      "[[ 0  1  2  3]\n",
      " [ 4  5  6  7]\n",
      " [ 8  9 10 11]]\n"
     ]
    },
    {
     "data": {
      "text/plain": [
       "array([ 8,  9, 10, 11])"
      ]
     },
     "execution_count": 58,
     "metadata": {},
     "output_type": "execute_result"
    }
   ],
   "source": [
    "a = np.arange(12).reshape(3,4)\n",
    "print(a)\n",
    "a.max(axis = 0) # 跨行最大"
   ]
  },
  {
   "cell_type": "code",
   "execution_count": 85,
   "id": "814f2b7e",
   "metadata": {},
   "outputs": [
    {
     "name": "stdout",
     "output_type": "stream",
     "text": [
      "[[ 0.42105072 -1.06560298]\n",
      " [-0.88623967 -0.47573349]\n",
      " [ 0.68968231  0.56119218]\n",
      " [-1.30554851 -1.11947526]]\n"
     ]
    }
   ],
   "source": [
    "print(np.random.randn(4,2)) # 标准正态分布，均值0，标准差1"
   ]
  },
  {
   "cell_type": "code",
   "execution_count": 90,
   "id": "2c24c629",
   "metadata": {},
   "outputs": [
    {
     "name": "stdout",
     "output_type": "stream",
     "text": [
      "[[0.18026969 0.01947524]\n",
      " [0.46321853 0.72493393]\n",
      " [0.4202036  0.4854271 ]\n",
      " [0.01278081 0.48737161]]\n",
      "[[0.18026969 0.01947524]\n",
      " [0.46321853 0.72493393]\n",
      " [0.4202036  0.4854271 ]\n",
      " [0.01278081 0.48737161]]\n"
     ]
    }
   ],
   "source": [
    "np.random.seed(11) # 影响下一行\n",
    "print(np.random.rand(4,2)) # 均匀分布\n",
    "\n",
    "np.random.seed(11)\n",
    "print(np.random.rand(4,2)) # 均匀分布"
   ]
  },
  {
   "cell_type": "code",
   "execution_count": 99,
   "id": "e208894e",
   "metadata": {},
   "outputs": [
    {
     "name": "stdout",
     "output_type": "stream",
     "text": [
      "[[1 2 3]\n",
      " [4 5 6]\n",
      " [1 1 1]]\n",
      "[[1 2 3 1 2]\n",
      " [4 5 6 1 2]]\n"
     ]
    }
   ],
   "source": [
    "a = np.array([[1,2,3],[4,5,6]])\n",
    "print(np.append(a, [[1,1,1]], axis=0)) # 必须维度级别和最后一维相同,0表示跨行append\n",
    "print(np.append(a, [[1,2],[1,2]], axis=1))"
   ]
  },
  {
   "cell_type": "code",
   "execution_count": null,
   "id": "02b65804",
   "metadata": {},
   "outputs": [
    {
     "name": "stdout",
     "output_type": "stream",
     "text": [
      "[[1 2 3]\n",
      " [4 5 6]]\n",
      "[[1 2 3]\n",
      " [0 0 0]\n",
      " [4 5 6]]\n",
      "[[1 2 3]]\n"
     ]
    }
   ],
   "source": [
    "a = np.array([[1,2,3],[4,5,6]])\n",
    "print(a)\n",
    "print(np.insert(a, 1, [0,0,0], axis=0))\n",
    "print(np.delete(a, 1, axis=0)) # 跨行删除"
   ]
  },
  {
   "cell_type": "code",
   "execution_count": null,
   "id": "2a32a717",
   "metadata": {},
   "outputs": [
    {
     "name": "stdout",
     "output_type": "stream",
     "text": [
      "[1 2 2 3 4 5] [1 2 3 4 5]\n"
     ]
    }
   ],
   "source": [
    "a = np.array([1,2,2,3,4,5])\n",
    "b = np.unique(a) #去重\n",
    "print(a, b)"
   ]
  },
  {
   "cell_type": "code",
   "execution_count": null,
   "id": "5f0ac463",
   "metadata": {},
   "outputs": [],
   "source": []
  }
 ],
 "metadata": {
  "kernelspec": {
   "display_name": "test-env",
   "language": "python",
   "name": "python3"
  },
  "language_info": {
   "codemirror_mode": {
    "name": "ipython",
    "version": 3
   },
   "file_extension": ".py",
   "mimetype": "text/x-python",
   "name": "python",
   "nbconvert_exporter": "python",
   "pygments_lexer": "ipython3",
   "version": "3.10.16"
  }
 },
 "nbformat": 4,
 "nbformat_minor": 5
}
